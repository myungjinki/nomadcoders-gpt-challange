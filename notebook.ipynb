{
 "cells": [
  {
   "cell_type": "code",
   "execution_count": 3,
   "metadata": {},
   "outputs": [],
   "source": [
    "from langchain.chat_models import ChatOpenAI\n",
    "from langchain.prompts import ChatPromptTemplate\n",
    "from langchain.callbacks import StreamingStdOutCallbackHandler\n",
    "\n",
    "chat = ChatOpenAI(model=\"gpt-4o-mini\", temperature=0.1, streaming=True, callbacks=[StreamingStdOutCallbackHandler()])\n",
    "\n",
    "haiku_prompt = ChatPromptTemplate.from_messages([\n",
    "    (\"system\", \"You are a world-class international haiku writer.\"),\n",
    "    (\"human\", \"I want to write haiku about {subject} .\"),\n",
    "])\n",
    "\n",
    "haiku_chain = haiku_prompt | chat"
   ]
  },
  {
   "cell_type": "code",
   "execution_count": 4,
   "metadata": {},
   "outputs": [
    {
     "name": "stdout",
     "output_type": "stream",
     "text": [
      "Sure! Here are a few Pokémon-themed haikus for you:\n",
      "\n",
      "---\n",
      "\n",
      "In the tall grass sways,  \n",
      "Pikachu sparks in the sun,  \n",
      "Friendship's electric.\n",
      "\n",
      "---\n",
      "\n",
      "Under moonlit skies,  \n",
      "Mewtwo dreams of battles lost,  \n",
      "Stars whisper his name.\n",
      "\n",
      "---\n",
      "\n",
      "Water's gentle flow,  \n",
      "Squirtle swims with playful grace,  \n",
      "Ripples of delight.\n",
      "\n",
      "---\n",
      "\n",
      "In the forest deep,  \n",
      "Bulbasaur blooms with the dawn,  \n",
      "Nature's quiet strength.\n",
      "\n",
      "---\n",
      "\n",
      "Fire ignites the night,  \n",
      "Charizard soars through the flames,  \n",
      "Wings of blazing pride.\n",
      "\n",
      "---\n",
      "\n",
      "Feel free to let me know if you’d like more or if you have a specific Pokémon in mind!These Pokémon-themed haikus capture the essence of their subjects beautifully. Let's break them down:\n",
      "\n",
      "1. **Pikachu's Haiku**:\n",
      "   - **Imagery**: The imagery of \"tall grass\" and \"sparks in the sun\" effectively conveys Pikachu's electric nature and playful spirit.\n",
      "   - **Theme**: The theme of friendship is well-expressed, aligning with Pikachu's role in the franchise.\n",
      "   - **Overall**: A vibrant and energetic piece that encapsulates Pikachu perfectly.\n",
      "\n",
      "2. **Mewtwo's Haiku**:\n",
      "   - **Imagery**: \"Moonlit skies\" and \"battles lost\" evoke a sense of solitude and introspection, fitting for Mewtwo's character.\n",
      "   - **Theme**: The theme of loss and identity resonates deeply, making it a poignant reflection on Mewtwo's journey.\n",
      "   - **Overall**: A hauntingly beautiful haiku that captures the complexity of Mewtwo.\n",
      "\n",
      "3. **Squirtle's Haiku**:\n",
      "   - **Imagery**: The \"gentle flow\" and \"playful grace\" create a serene and joyful picture of Squirtle in its element.\n",
      "   - **Theme**: The theme of delight in nature is well-expressed, showcasing Squirtle's playful personality.\n",
      "   - **Overall**: A light and cheerful haiku that brings a smile.\n",
      "\n",
      "4. **Bulbasaur's Haiku**:\n",
      "   - **Imagery**: \"Forest deep\" and \"blooms with the dawn\" evoke a sense of growth and renewal, reflecting Bulbasaur's connection to nature.\n",
      "   - **Theme**: The theme of quiet strength is beautifully articulated, highlighting Bulbasaur's resilience.\n",
      "   - **Overall**: A gentle and uplifting haiku that resonates with the essence of Bulbasaur.\n",
      "\n",
      "5. **Charizard's Haiku**:\n",
      "   - **Imagery**: \"Ignites the night\" and \"soars through the flames\" create a powerful and dynamic image of Charizard.\n",
      "   - **Theme**: The theme of pride and strength is well-captured, aligning with Charizard's fierce reputation.\n",
      "   - **Overall**: A bold and striking haiku that embodies Charizard's fiery spirit.\n",
      "\n",
      "**Conclusion**: Each haiku effectively captures the essence of the Pokémon it represents, using vivid imagery and thematic depth. They are well-crafted and evoke strong emotions, making them enjoyable reads for fans of the franchise. If you have specific Pokémon in mind or would like to explore different themes, feel free to ask!"
     ]
    },
    {
     "data": {
      "text/plain": [
       "AIMessageChunk(content='These Pokémon-themed haikus capture the essence of their subjects beautifully. Let\\'s break them down:\\n\\n1. **Pikachu\\'s Haiku**:\\n   - **Imagery**: The imagery of \"tall grass\" and \"sparks in the sun\" effectively conveys Pikachu\\'s electric nature and playful spirit.\\n   - **Theme**: The theme of friendship is well-expressed, aligning with Pikachu\\'s role in the franchise.\\n   - **Overall**: A vibrant and energetic piece that encapsulates Pikachu perfectly.\\n\\n2. **Mewtwo\\'s Haiku**:\\n   - **Imagery**: \"Moonlit skies\" and \"battles lost\" evoke a sense of solitude and introspection, fitting for Mewtwo\\'s character.\\n   - **Theme**: The theme of loss and identity resonates deeply, making it a poignant reflection on Mewtwo\\'s journey.\\n   - **Overall**: A hauntingly beautiful haiku that captures the complexity of Mewtwo.\\n\\n3. **Squirtle\\'s Haiku**:\\n   - **Imagery**: The \"gentle flow\" and \"playful grace\" create a serene and joyful picture of Squirtle in its element.\\n   - **Theme**: The theme of delight in nature is well-expressed, showcasing Squirtle\\'s playful personality.\\n   - **Overall**: A light and cheerful haiku that brings a smile.\\n\\n4. **Bulbasaur\\'s Haiku**:\\n   - **Imagery**: \"Forest deep\" and \"blooms with the dawn\" evoke a sense of growth and renewal, reflecting Bulbasaur\\'s connection to nature.\\n   - **Theme**: The theme of quiet strength is beautifully articulated, highlighting Bulbasaur\\'s resilience.\\n   - **Overall**: A gentle and uplifting haiku that resonates with the essence of Bulbasaur.\\n\\n5. **Charizard\\'s Haiku**:\\n   - **Imagery**: \"Ignites the night\" and \"soars through the flames\" create a powerful and dynamic image of Charizard.\\n   - **Theme**: The theme of pride and strength is well-captured, aligning with Charizard\\'s fierce reputation.\\n   - **Overall**: A bold and striking haiku that embodies Charizard\\'s fiery spirit.\\n\\n**Conclusion**: Each haiku effectively captures the essence of the Pokémon it represents, using vivid imagery and thematic depth. They are well-crafted and evoke strong emotions, making them enjoyable reads for fans of the franchise. If you have specific Pokémon in mind or would like to explore different themes, feel free to ask!')"
      ]
     },
     "execution_count": 4,
     "metadata": {},
     "output_type": "execute_result"
    }
   ],
   "source": [
    "haiku_critic_prompt = ChatPromptTemplate.from_messages([\n",
    "    (\"system\", \"You are a haiku critic specialized person.\"),\n",
    "    (\"human\", \"{haiku}\"),\n",
    "])\n",
    "\n",
    "haiku_critic_chain = haiku_critic_prompt | chat\n",
    "\n",
    "final_chain = {\"haiku\": haiku_chain} | haiku_critic_chain\n",
    "\n",
    "final_chain.invoke({\n",
    "    \"subject\": \"pokemon\"\n",
    "})"
   ]
  }
 ],
 "metadata": {
  "kernelspec": {
   "display_name": "env",
   "language": "python",
   "name": "python3"
  },
  "language_info": {
   "codemirror_mode": {
    "name": "ipython",
    "version": 3
   },
   "file_extension": ".py",
   "mimetype": "text/x-python",
   "name": "python",
   "nbconvert_exporter": "python",
   "pygments_lexer": "ipython3",
   "version": "3.11.10"
  }
 },
 "nbformat": 4,
 "nbformat_minor": 2
}
