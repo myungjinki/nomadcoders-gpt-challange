{
 "cells": [
  {
   "cell_type": "code",
   "execution_count": 3,
   "metadata": {},
   "outputs": [],
   "source": [
    "from langchain.chat_models import ChatOpenAI\n",
    "from langchain.prompts import ChatPromptTemplate\n",
    "from langchain.callbacks import StreamingStdOutCallbackHandler\n",
    "\n",
    "chat = ChatOpenAI(\n",
    "    model=\"gpt-4o-mini\",\n",
    "    temperature=0.1,\n",
    "    streaming=True,\n",
    "    callbacks=[StreamingStdOutCallbackHandler()],\n",
    ")\n",
    "\n",
    "haiku_prompt = ChatPromptTemplate.from_messages(\n",
    "    [\n",
    "        (\"system\", \"You are a world-class international haiku writer.\"),\n",
    "        (\"human\", \"I want to write haiku about {subject} .\"),\n",
    "    ]\n",
    ")\n",
    "\n",
    "haiku_chain = haiku_prompt | chat"
   ]
  },
  {
   "cell_type": "code",
   "execution_count": 4,
   "metadata": {},
   "outputs": [
    {
     "name": "stdout",
     "output_type": "stream",
     "text": [
      "Sure! Here are a few Pokémon-themed haikus for you:\n",
      "\n",
      "---\n",
      "\n",
      "In the tall grass sways,  \n",
      "Pikachu sparks in the sun,  \n",
      "Friendship's electric.\n",
      "\n",
      "---\n",
      "\n",
      "Under moonlit skies,  \n",
      "Mewtwo dreams of battles lost,  \n",
      "Stars whisper his name.\n",
      "\n",
      "---\n",
      "\n",
      "Water's gentle flow,  \n",
      "Squirtle swims with playful grace,  \n",
      "Ripples of delight.\n",
      "\n",
      "---\n",
      "\n",
      "In the forest deep,  \n",
      "Bulbasaur blooms with the dawn,  \n",
      "Nature's quiet strength.\n",
      "\n",
      "---\n",
      "\n",
      "Fire ignites the night,  \n",
      "Charizard soars through the flames,  \n",
      "Wings of blazing pride.\n",
      "\n",
      "---\n",
      "\n",
      "Feel free to let me know if you’d like more or if you have a specific Pokémon in mind!These Pokémon-themed haikus capture the essence of their subjects beautifully. Let's break them down:\n",
      "\n",
      "1. **Pikachu's Haiku**:\n",
      "   - **Imagery**: The imagery of \"tall grass\" and \"sparks in the sun\" effectively conveys Pikachu's electric nature and playful spirit.\n",
      "   - **Theme**: The theme of friendship is well-expressed, aligning with Pikachu's role in the franchise.\n",
      "   - **Overall**: A vibrant and energetic piece that encapsulates Pikachu perfectly.\n",
      "\n",
      "2. **Mewtwo's Haiku**:\n",
      "   - **Imagery**: \"Moonlit skies\" and \"battles lost\" evoke a sense of solitude and introspection, fitting for Mewtwo's character.\n",
      "   - **Theme**: The theme of loss and identity resonates deeply, making it a poignant reflection on Mewtwo's journey.\n",
      "   - **Overall**: A hauntingly beautiful haiku that captures the complexity of Mewtwo.\n",
      "\n",
      "3. **Squirtle's Haiku**:\n",
      "   - **Imagery**: The \"gentle flow\" and \"playful grace\" create a serene and joyful picture of Squirtle in its element.\n",
      "   - **Theme**: The theme of delight in nature is well-expressed, showcasing Squirtle's playful personality.\n",
      "   - **Overall**: A light and cheerful haiku that brings a smile.\n",
      "\n",
      "4. **Bulbasaur's Haiku**:\n",
      "   - **Imagery**: \"Forest deep\" and \"blooms with the dawn\" evoke a sense of growth and renewal, reflecting Bulbasaur's connection to nature.\n",
      "   - **Theme**: The theme of quiet strength is beautifully articulated, highlighting Bulbasaur's resilience.\n",
      "   - **Overall**: A gentle and uplifting haiku that resonates with the essence of Bulbasaur.\n",
      "\n",
      "5. **Charizard's Haiku**:\n",
      "   - **Imagery**: \"Ignites the night\" and \"soars through the flames\" create a powerful and dynamic image of Charizard.\n",
      "   - **Theme**: The theme of pride and strength is well-captured, aligning with Charizard's fierce reputation.\n",
      "   - **Overall**: A bold and striking haiku that embodies Charizard's fiery spirit.\n",
      "\n",
      "**Conclusion**: Each haiku effectively captures the essence of the Pokémon it represents, using vivid imagery and thematic depth. They are well-crafted and evoke strong emotions, making them enjoyable reads for fans of the franchise. If you have specific Pokémon in mind or would like to explore different themes, feel free to ask!"
     ]
    },
    {
     "data": {
      "text/plain": [
       "AIMessageChunk(content='These Pokémon-themed haikus capture the essence of their subjects beautifully. Let\\'s break them down:\\n\\n1. **Pikachu\\'s Haiku**:\\n   - **Imagery**: The imagery of \"tall grass\" and \"sparks in the sun\" effectively conveys Pikachu\\'s electric nature and playful spirit.\\n   - **Theme**: The theme of friendship is well-expressed, aligning with Pikachu\\'s role in the franchise.\\n   - **Overall**: A vibrant and energetic piece that encapsulates Pikachu perfectly.\\n\\n2. **Mewtwo\\'s Haiku**:\\n   - **Imagery**: \"Moonlit skies\" and \"battles lost\" evoke a sense of solitude and introspection, fitting for Mewtwo\\'s character.\\n   - **Theme**: The theme of loss and identity resonates deeply, making it a poignant reflection on Mewtwo\\'s journey.\\n   - **Overall**: A hauntingly beautiful haiku that captures the complexity of Mewtwo.\\n\\n3. **Squirtle\\'s Haiku**:\\n   - **Imagery**: The \"gentle flow\" and \"playful grace\" create a serene and joyful picture of Squirtle in its element.\\n   - **Theme**: The theme of delight in nature is well-expressed, showcasing Squirtle\\'s playful personality.\\n   - **Overall**: A light and cheerful haiku that brings a smile.\\n\\n4. **Bulbasaur\\'s Haiku**:\\n   - **Imagery**: \"Forest deep\" and \"blooms with the dawn\" evoke a sense of growth and renewal, reflecting Bulbasaur\\'s connection to nature.\\n   - **Theme**: The theme of quiet strength is beautifully articulated, highlighting Bulbasaur\\'s resilience.\\n   - **Overall**: A gentle and uplifting haiku that resonates with the essence of Bulbasaur.\\n\\n5. **Charizard\\'s Haiku**:\\n   - **Imagery**: \"Ignites the night\" and \"soars through the flames\" create a powerful and dynamic image of Charizard.\\n   - **Theme**: The theme of pride and strength is well-captured, aligning with Charizard\\'s fierce reputation.\\n   - **Overall**: A bold and striking haiku that embodies Charizard\\'s fiery spirit.\\n\\n**Conclusion**: Each haiku effectively captures the essence of the Pokémon it represents, using vivid imagery and thematic depth. They are well-crafted and evoke strong emotions, making them enjoyable reads for fans of the franchise. If you have specific Pokémon in mind or would like to explore different themes, feel free to ask!')"
      ]
     },
     "execution_count": 4,
     "metadata": {},
     "output_type": "execute_result"
    }
   ],
   "source": [
    "haiku_critic_prompt = ChatPromptTemplate.from_messages(\n",
    "    [\n",
    "        (\"system\", \"You are a haiku critic specialized person.\"),\n",
    "        (\"human\", \"{haiku}\"),\n",
    "    ]\n",
    ")\n",
    "\n",
    "haiku_critic_chain = haiku_critic_prompt | chat\n",
    "\n",
    "final_chain = {\"haiku\": haiku_chain} | haiku_critic_chain\n",
    "\n",
    "final_chain.invoke({\"subject\": \"pokemon\"})"
   ]
  },
  {
   "cell_type": "code",
   "execution_count": 5,
   "metadata": {},
   "outputs": [
    {
     "name": "stdout",
     "output_type": "stream",
     "text": [
      "Here is what I know:\n",
      "Director: Pete Docter\n",
      "Actors: Ed Asner, Christopher Plummer, Jordan Nagai, Bob Peterson\n",
      "Budget: $175 million\n",
      "Box office: $735.1 million\n",
      "Genre: Animated adventure comedy-drama\n",
      "Synopsis: The film follows an elderly widower named Carl Fredricksen and a young Wilderness Explorer named Russell as they embark on a journey to South America in a house lifted by thousands of balloons.\n",
      "Release date: May 29, 2009"
     ]
    },
    {
     "data": {
      "text/plain": [
       "AIMessageChunk(content='Here is what I know:\\nDirector: Pete Docter\\nActors: Ed Asner, Christopher Plummer, Jordan Nagai, Bob Peterson\\nBudget: $175 million\\nBox office: $735.1 million\\nGenre: Animated adventure comedy-drama\\nSynopsis: The film follows an elderly widower named Carl Fredricksen and a young Wilderness Explorer named Russell as they embark on a journey to South America in a house lifted by thousands of balloons.\\nRelease date: May 29, 2009')"
      ]
     },
     "execution_count": 5,
     "metadata": {},
     "output_type": "execute_result"
    }
   ],
   "source": [
    "from langchain.chat_models import ChatOpenAI\n",
    "from langchain.prompts.few_shot import FewShotChatMessagePromptTemplate\n",
    "from langchain.callbacks import StreamingStdOutCallbackHandler\n",
    "from langchain.prompts import ChatPromptTemplate\n",
    "\n",
    "chat = ChatOpenAI(\n",
    "    temperature=0.1,\n",
    "    streaming=True,\n",
    "    callbacks=[\n",
    "        StreamingStdOutCallbackHandler(),\n",
    "    ],\n",
    ")\n",
    "\n",
    "examples = [\n",
    "    {\n",
    "        \"question\": \"Love actually?\",\n",
    "        \"answer\": \"\"\"\n",
    "Here is what I know:\n",
    "Director: Richard Curtis\n",
    "Actors: Hugh Grant, Martine McCutcheon, Liam Neeson, Laura Linney, Emma Thompson, Alan Rickman, Keira Knightley, Colin Firth, Bill Nighy, and Rowan Atkinson\n",
    "Budget: $40 million\n",
    "Box office: $247.5 million\n",
    "Genre: Romantic comedy\n",
    "Synopsis: The film follows the lives of eight very different couples in dealing with their love lives in various loosely interrelated tales all set during a frantic month before Christmas in London, England.\n",
    "Release date: November 14, 2003\n",
    "\"\"\",\n",
    "    },\n",
    "    {\n",
    "        \"question\": \"The Matrix?\",\n",
    "        \"answer\": \"\"\"\n",
    "Here is what I know:\n",
    "Director: The Wachowskis\n",
    "Actors: Keanu Reeves, Laurence Fishburne, Carrie-Anne Moss, Hugo Weaving, and Joe Pantoliano\n",
    "Budget: $63 million\n",
    "Box office: $463.5 million\n",
    "Genre: Science fiction\n",
    "Synopsis: The film depicts a dystopian future in which humanity is unknowingly trapped inside a simulated reality created by intelligent machines to distract them while using their bodies as an energy source.\n",
    "Release date: March 31, 1999\n",
    "\"\"\",\n",
    "    },\n",
    "    {\n",
    "        \"question\": \"The Godfather?\",\n",
    "        \"answer\": \"\"\"\n",
    "Here is what I know:\n",
    "Director: Francis Ford Coppola\n",
    "Actors: Marlon Brando, Al Pacino, James Caan, Richard S. Castellano, Robert Duvall, Sterling Hayden, John Marley, Richard Conte, and Diane Keaton\n",
    "Budget: $6 million\n",
    "Box office: $245 million\n",
    "Genre: Crime\n",
    "Synopsis: The film tells the story of a fictional New York crime family and the patriarch's reluctant son who gradually becomes the family's ruthless leader.\n",
    "Release date: March 15, 1972\n",
    "\"\"\",\n",
    "    },\n",
    "]\n",
    "\n",
    "examples_prompt = ChatPromptTemplate.from_messages(\n",
    "    [(\"human\", \" What do you know about {question}\"), (\"ai\", \"{answer}\")]\n",
    ")\n",
    "\n",
    "example_prompt = FewShotChatMessagePromptTemplate(\n",
    "    example_prompt=examples_prompt,\n",
    "    examples=examples,\n",
    ")\n",
    "\n",
    "final_prompt = ChatPromptTemplate.from_messages(\n",
    "    [\n",
    "        (\"system\", \"You are a movie expert.\"),\n",
    "        example_prompt,\n",
    "        (\"human\", \"What do you know about {movie}\"),\n",
    "    ]\n",
    ")\n",
    "\n",
    "final_prompt.format(movie=\"Up\")\n",
    "\n",
    "chain = final_prompt | chat\n",
    "\n",
    "chain.invoke({\"movie\": \"Up\"})"
   ]
  },
  {
   "cell_type": "code",
   "execution_count": 3,
   "metadata": {},
   "outputs": [
    {
     "name": "stdout",
     "output_type": "stream",
     "text": [
      "Harry Potter\n",
      "\n",
      "\u001b[1m> Entering new LLMChain chain...\u001b[0m\n",
      "Prompt after formatting:\n",
      "\u001b[32;1m\u001b[1;3mSystem: You are a movie expert.\n",
      "Human: Top gun?\n",
      "AI: 🛩️👨‍✈️🔥\n",
      "Human: God father?\n",
      "AI: 👨‍👨‍👦🔫🍝\n",
      "Human: Harry potter?\u001b[0m\n",
      "⚡🧙🏰🔮\n",
      "\u001b[1m> Finished chain.\u001b[0m\n",
      "NONERoad of the rings\n",
      "\n",
      "\u001b[1m> Entering new LLMChain chain...\u001b[0m\n",
      "Prompt after formatting:\n",
      "\u001b[32;1m\u001b[1;3mSystem: You are a movie expert.\n",
      "Human: Top gun?\n",
      "AI: 🛩️👨‍✈️🔥\n",
      "Human: God father?\n",
      "AI: 👨‍👨‍👦🔫🍝\n",
      "Human: Road of the rings?\u001b[0m\n",
      "🧙‍♂️🗡️🌋\n",
      "\u001b[1m> Finished chain.\u001b[0m\n",
      "NONE"
     ]
    },
    {
     "data": {
      "text/plain": [
       "{'movie': 'Road of the rings?', 'history': [], 'text': '🧙\\u200d♂️🗡️🌋'}"
      ]
     },
     "execution_count": 3,
     "metadata": {},
     "output_type": "execute_result"
    }
   ],
   "source": [
    "from langchain.chat_models import ChatOpenAI\n",
    "from langchain.prompts.few_shot import FewShotChatMessagePromptTemplate\n",
    "from langchain.callbacks import StreamingStdOutCallbackHandler\n",
    "from langchain.prompts import ChatPromptTemplate\n",
    "from langchain.memory import ConversationKGMemory\n",
    "from langchain.chains import LLMChain\n",
    "\n",
    "\n",
    "llm = ChatOpenAI(\n",
    "    temperature=0.1,\n",
    "    streaming=True,\n",
    "    callbacks=[\n",
    "        StreamingStdOutCallbackHandler(),\n",
    "    ],\n",
    ")\n",
    "\n",
    "memory = ConversationKGMemory(llm=llm, return_messages=True)\n",
    "\n",
    "\n",
    "def add_message(input, output):\n",
    "    memory.save_context({\"input\": input}, {\"output\": output})\n",
    "\n",
    "\n",
    "examples = [\n",
    "    {\n",
    "        \"question\": \"Top gun?\",\n",
    "        \"answer\": \"🛩️👨‍✈️🔥\",\n",
    "    },\n",
    "    {\n",
    "        \"question\": \"God father?\",\n",
    "        \"answer\": \"👨‍👨‍👦🔫🍝\",\n",
    "    },\n",
    "]\n",
    "\n",
    "examples_prompt = ChatPromptTemplate.from_messages(\n",
    "    [(\"human\", \"{question}\"), (\"ai\", \"{answer}\")]\n",
    ")\n",
    "\n",
    "example_prompt = FewShotChatMessagePromptTemplate(\n",
    "    example_prompt=examples_prompt,\n",
    "    examples=examples,\n",
    ")\n",
    "\n",
    "final_prompt = ChatPromptTemplate.from_messages(\n",
    "    [\n",
    "        (\"system\", \"You are a movie expert.\"),\n",
    "        example_prompt,\n",
    "        (\"human\", \"{movie}\"),\n",
    "    ]\n",
    ")\n",
    "\n",
    "final_prompt.format(movie=\"Top gun\")\n",
    "\n",
    "\n",
    "chain = LLMChain(\n",
    "    memory=memory,\n",
    "    llm=llm,\n",
    "    prompt=final_prompt,\n",
    "    verbose=True,\n",
    ")\n",
    "\n",
    "chain.invoke({\"movie\": \"Harry potter?\"})\n",
    "chain.invoke({\"movie\": \"Road of the rings?\"})"
   ]
  },
  {
   "cell_type": "code",
   "execution_count": 6,
   "metadata": {},
   "outputs": [
    {
     "name": "stdout",
     "output_type": "stream",
     "text": [
      "The last answer is the response given to the most recent question or prompt."
     ]
    },
    {
     "data": {
      "text/plain": [
       "'The last answer is the response given to the most recent question or prompt.'"
      ]
     },
     "execution_count": 6,
     "metadata": {},
     "output_type": "execute_result"
    }
   ],
   "source": [
    "llm.predict(\"what is the last answer?\")"
   ]
  }
 ],
 "metadata": {
  "kernelspec": {
   "display_name": "env",
   "language": "python",
   "name": "python3"
  },
  "language_info": {
   "codemirror_mode": {
    "name": "ipython",
    "version": 3
   },
   "file_extension": ".py",
   "mimetype": "text/x-python",
   "name": "python",
   "nbconvert_exporter": "python",
   "pygments_lexer": "ipython3",
   "version": "3.11.10"
  }
 },
 "nbformat": 4,
 "nbformat_minor": 2
}
